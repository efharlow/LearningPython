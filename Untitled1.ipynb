{
 "cells": [
  {
   "cell_type": "code",
   "execution_count": 3,
   "metadata": {
    "collapsed": false
   },
   "outputs": [
    {
     "name": "stdout",
     "output_type": "stream",
     "text": [
      "change!\n"
     ]
    }
   ],
   "source": [
    "class ProxGrad:\n",
    "    def grad(self):\n",
    "        print('this is default')\n",
    "    def prox(self):\n",
    "        print('prox')\n",
    "        \n",
    "c = C()\n",
    "c.grad = lambda: print('change!')\n",
    "c.grad()"
   ]
  },
  {
   "cell_type": "code",
   "execution_count": 8,
   "metadata": {
    "collapsed": false
   },
   "outputs": [
    {
     "name": "stdout",
     "output_type": "stream",
     "text": [
      "{1, 2, 3, 'a', 'b'}\n"
     ]
    }
   ],
   "source": [
    "class Wrapper:\n",
    "    def __init__(self):\n",
    "        self.flavors = {'chocolate', 'vaninalla'}\n",
    "        self.dict_ = {1, 2, 3}\n",
    "    def add_flavor(self, flavor):\n",
    "        self.flavors = {*self.flavors, flavor}\n",
    "        \n",
    "w = Wrapper()\n",
    "w.dict_ = {*w.dict_, 'a', 'b'}\n",
    "print(w.dict_)"
   ]
  },
  {
   "cell_type": "code",
   "execution_count": null,
   "metadata": {
    "collapsed": true
   },
   "outputs": [],
   "source": []
  }
 ],
 "metadata": {
  "kernelspec": {
   "display_name": "Python 3",
   "language": "python",
   "name": "python3"
  },
  "language_info": {
   "codemirror_mode": {
    "name": "ipython",
    "version": 3
   },
   "file_extension": ".py",
   "mimetype": "text/x-python",
   "name": "python",
   "nbconvert_exporter": "python",
   "pygments_lexer": "ipython3",
   "version": "3.5.1"
  }
 },
 "nbformat": 4,
 "nbformat_minor": 0
}
