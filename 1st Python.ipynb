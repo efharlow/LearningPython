{
 "cells": [
  {
   "cell_type": "code",
   "execution_count": null,
   "metadata": {
    "collapsed": true
   },
   "outputs": [],
   "source": []
  },
  {
   "cell_type": "markdown",
   "metadata": {},
   "source": [
    "text text **text**"
   ]
  },
  {
   "cell_type": "code",
   "execution_count": 9,
   "metadata": {
    "collapsed": false
   },
   "outputs": [
    {
     "name": "stdout",
     "output_type": "stream",
     "text": [
      "[ -9.99200722e-16   2.44249065e-15   3.33066907e-16   0.00000000e+00\n",
      "  -6.66133815e-16   1.99840144e-15  -4.44089210e-16]\n"
     ]
    }
   ],
   "source": [
    "import numpy as np\n",
    "\n",
    "a = np.array([[1, 2, 3], \n",
    "              [3, 4, 5], \n",
    "              [4, 6, 8]])\n",
    "n = 7\n",
    "b = np.random.rand(n, n)\n",
    "x = np.random.rand(n)\n",
    "y = b @ (x)\n",
    "c = np.linalg.inv(b)\n",
    "v = c @ y\n",
    "print(v - x)"
   ]
  },
  {
   "cell_type": "code",
   "execution_count": 13,
   "metadata": {
    "collapsed": false
   },
   "outputs": [
    {
     "name": "stdout",
     "output_type": "stream",
     "text": [
      "[[ 0.90599314  0.89034534  0.44049817  0.17976116  0.25345246]\n",
      " [ 0.92483662  0.48476236  0.66830024  0.8869607   0.4483664 ]\n",
      " [ 0.69083159  0.55307319  0.96758505  0.85054676  0.03320607]\n",
      " [ 0.1304701   0.54155365  0.81654472  0.68291136  0.0066158 ]\n",
      " [ 0.76456612  0.97733968  0.84484224  0.71892641  0.09452552]]\n"
     ]
    }
   ],
   "source": [
    "import numpy as np\n",
    "\n",
    "def generate(n):\n",
    "    def create(matrix):\n",
    "        if np.linalg.det(matrix) != 0:\n",
    "            return matrix\n",
    "        else:\n",
    "            return create(np.random.rand(n, n))\n",
    "    return create(np.random.rand(n, n))\n",
    "\n"
   ]
  },
  {
   "cell_type": "code",
   "execution_count": 51,
   "metadata": {
    "collapsed": false
   },
   "outputs": [
    {
     "ename": "LinAlgError",
     "evalue": "Singular matrix",
     "output_type": "error",
     "traceback": [
      "\u001b[1;31m---------------------------------------------------------------------------\u001b[0m",
      "\u001b[1;31mLinAlgError\u001b[0m                               Traceback (most recent call last)",
      "\u001b[1;32m<ipython-input-51-21210497a81c>\u001b[0m in \u001b[0;36m<module>\u001b[1;34m()\u001b[0m\n\u001b[0;32m     58\u001b[0m \u001b[1;31m# print(sysX, sys[\"x\"])\u001b[0m\u001b[1;33m\u001b[0m\u001b[1;33m\u001b[0m\u001b[0m\n\u001b[0;32m     59\u001b[0m \u001b[0mi\u001b[0m \u001b[1;33m=\u001b[0m \u001b[0mnotInvSum\u001b[0m\u001b[1;33m(\u001b[0m\u001b[1;36m3\u001b[0m\u001b[1;33m)\u001b[0m\u001b[1;33m\u001b[0m\u001b[0m\n\u001b[1;32m---> 60\u001b[1;33m \u001b[0mprint\u001b[0m\u001b[1;33m(\u001b[0m\u001b[0mi\u001b[0m\u001b[1;33m,\u001b[0m \u001b[0mnp\u001b[0m\u001b[1;33m.\u001b[0m\u001b[0mlinalg\u001b[0m\u001b[1;33m.\u001b[0m\u001b[0minv\u001b[0m\u001b[1;33m(\u001b[0m\u001b[0mi\u001b[0m\u001b[1;33m)\u001b[0m\u001b[1;33m)\u001b[0m\u001b[1;33m\u001b[0m\u001b[0m\n\u001b[0m\u001b[0;32m     61\u001b[0m \u001b[1;31m# print(i)\u001b[0m\u001b[1;33m\u001b[0m\u001b[1;33m\u001b[0m\u001b[0m\n\u001b[0;32m     62\u001b[0m \u001b[1;31m# q = generateSystem(5)[\"A\"]\u001b[0m\u001b[1;33m\u001b[0m\u001b[1;33m\u001b[0m\u001b[0m\n",
      "\u001b[1;32mC:\\Users\\HARLOWEWAN\\Anaconda3\\lib\\site-packages\\numpy\\linalg\\linalg.py\u001b[0m in \u001b[0;36minv\u001b[1;34m(a)\u001b[0m\n\u001b[0;32m    524\u001b[0m     \u001b[0msignature\u001b[0m \u001b[1;33m=\u001b[0m \u001b[1;34m'D->D'\u001b[0m \u001b[1;32mif\u001b[0m \u001b[0misComplexType\u001b[0m\u001b[1;33m(\u001b[0m\u001b[0mt\u001b[0m\u001b[1;33m)\u001b[0m \u001b[1;32melse\u001b[0m \u001b[1;34m'd->d'\u001b[0m\u001b[1;33m\u001b[0m\u001b[0m\n\u001b[0;32m    525\u001b[0m     \u001b[0mextobj\u001b[0m \u001b[1;33m=\u001b[0m \u001b[0mget_linalg_error_extobj\u001b[0m\u001b[1;33m(\u001b[0m\u001b[0m_raise_linalgerror_singular\u001b[0m\u001b[1;33m)\u001b[0m\u001b[1;33m\u001b[0m\u001b[0m\n\u001b[1;32m--> 526\u001b[1;33m     \u001b[0mainv\u001b[0m \u001b[1;33m=\u001b[0m \u001b[0m_umath_linalg\u001b[0m\u001b[1;33m.\u001b[0m\u001b[0minv\u001b[0m\u001b[1;33m(\u001b[0m\u001b[0ma\u001b[0m\u001b[1;33m,\u001b[0m \u001b[0msignature\u001b[0m\u001b[1;33m=\u001b[0m\u001b[0msignature\u001b[0m\u001b[1;33m,\u001b[0m \u001b[0mextobj\u001b[0m\u001b[1;33m=\u001b[0m\u001b[0mextobj\u001b[0m\u001b[1;33m)\u001b[0m\u001b[1;33m\u001b[0m\u001b[0m\n\u001b[0m\u001b[0;32m    527\u001b[0m     \u001b[1;32mreturn\u001b[0m \u001b[0mwrap\u001b[0m\u001b[1;33m(\u001b[0m\u001b[0mainv\u001b[0m\u001b[1;33m.\u001b[0m\u001b[0mastype\u001b[0m\u001b[1;33m(\u001b[0m\u001b[0mresult_t\u001b[0m\u001b[1;33m,\u001b[0m \u001b[0mcopy\u001b[0m\u001b[1;33m=\u001b[0m\u001b[1;32mFalse\u001b[0m\u001b[1;33m)\u001b[0m\u001b[1;33m)\u001b[0m\u001b[1;33m\u001b[0m\u001b[0m\n\u001b[0;32m    528\u001b[0m \u001b[1;33m\u001b[0m\u001b[0m\n",
      "\u001b[1;32mC:\\Users\\HARLOWEWAN\\Anaconda3\\lib\\site-packages\\numpy\\linalg\\linalg.py\u001b[0m in \u001b[0;36m_raise_linalgerror_singular\u001b[1;34m(err, flag)\u001b[0m\n\u001b[0;32m     88\u001b[0m \u001b[1;33m\u001b[0m\u001b[0m\n\u001b[0;32m     89\u001b[0m \u001b[1;32mdef\u001b[0m \u001b[0m_raise_linalgerror_singular\u001b[0m\u001b[1;33m(\u001b[0m\u001b[0merr\u001b[0m\u001b[1;33m,\u001b[0m \u001b[0mflag\u001b[0m\u001b[1;33m)\u001b[0m\u001b[1;33m:\u001b[0m\u001b[1;33m\u001b[0m\u001b[0m\n\u001b[1;32m---> 90\u001b[1;33m     \u001b[1;32mraise\u001b[0m \u001b[0mLinAlgError\u001b[0m\u001b[1;33m(\u001b[0m\u001b[1;34m\"Singular matrix\"\u001b[0m\u001b[1;33m)\u001b[0m\u001b[1;33m\u001b[0m\u001b[0m\n\u001b[0m\u001b[0;32m     91\u001b[0m \u001b[1;33m\u001b[0m\u001b[0m\n\u001b[0;32m     92\u001b[0m \u001b[1;32mdef\u001b[0m \u001b[0m_raise_linalgerror_nonposdef\u001b[0m\u001b[1;33m(\u001b[0m\u001b[0merr\u001b[0m\u001b[1;33m,\u001b[0m \u001b[0mflag\u001b[0m\u001b[1;33m)\u001b[0m\u001b[1;33m:\u001b[0m\u001b[1;33m\u001b[0m\u001b[0m\n",
      "\u001b[1;31mLinAlgError\u001b[0m: Singular matrix"
     ]
    }
   ],
   "source": [
    "# generate a nice invertible A in one line (and x in one line, y in one line)\n",
    "# given y and A in y = Ax, return x\n",
    "# bonus points:\n",
    "# * given a true value of x, check to make sure your estimation is close to the true x\n",
    "# * check how you state how close it is\n",
    "# * when you check, use a NumPy function\n",
    "\n",
    "# generate n x n matrices that are not invertible\n",
    "# do this by 2 ways as judged different by Scott\n",
    "# write a (not very general) method for this\n",
    "\n",
    "import numpy as np\n",
    "\n",
    "def generateSystem(n):\n",
    "    def create(matrix):\n",
    "        if np.linalg.det(matrix) != 0:\n",
    "            return matrix\n",
    "        else:\n",
    "            return create(np.random.rand(n, n))\n",
    "    A = create(np.random.rand(n, n))\n",
    "    x = np.random.rand(n)\n",
    "    y = A @ x\n",
    "    return {\"A\": A, \"x\": x, \"y\": y}\n",
    "def x(system):\n",
    "    A = system[\"A\"]\n",
    "    y = system[\"y\"]\n",
    "    try:\n",
    "        alpha = np.linalg.inv(A)\n",
    "    except np.linalg.LinAlgError:\n",
    "        raise\n",
    "    else:\n",
    "        return alpha @ y\n",
    "    return False\n",
    "def isClose(x1, x2):\n",
    "    return np.allclose(x1, x2)\n",
    "def notInvCol(n):\n",
    "    rowScales = np.random.rand(n)\n",
    "    rowScales[np.random.randint(0, n)] = 0\n",
    "    return np.array([[scale * elt for elt in np.random.rand(n)] for scale in rowScales])\n",
    "# def notInvRow(n):\n",
    "#     rowScales = np.random.rand(n)\n",
    "#     rowScales[np.random.randint(0, n)] = 0\n",
    "#     return np.matrix([[scale * elt for elt in np.random.rand(n)] for scale in rowScales])\n",
    "def notInvSum(n):\n",
    "    matrix = []\n",
    "    i = n - 1\n",
    "    while i > 0:\n",
    "        matrix.append([int(np.floor(elt * 10)) for elt in np.random.rand(n)])\n",
    "        i -= 1\n",
    "    row = [[matrix[row][column] for row in range(n - 1)] for column in range(n)]\n",
    "    row = [sum(row[column]) for column in range(n)]\n",
    "    matrix.insert(np.random.randint(0, n), row)\n",
    "    return np.array(matrix)\n",
    "    \n",
    "# sys = generateSystem(10)\n",
    "# sysX = x(sys)\n",
    "# print(isClose(sysX, sys[\"x\"]))\n",
    "# print(sysX, sys[\"x\"])\n",
    "i = notInvSum(3)\n",
    "print(i, np.linalg.inv(i))\n",
    "# print(i)\n",
    "# q = generateSystem(5)[\"A\"]\n",
    "# print(np.linalg.inv(q) @ q)"
   ]
  },
  {
   "cell_type": "code",
   "execution_count": null,
   "metadata": {
    "collapsed": true
   },
   "outputs": [],
   "source": []
  },
  {
   "cell_type": "code",
   "execution_count": null,
   "metadata": {
    "collapsed": true
   },
   "outputs": [],
   "source": []
  },
  {
   "cell_type": "code",
   "execution_count": null,
   "metadata": {
    "collapsed": true
   },
   "outputs": [],
   "source": []
  }
 ],
 "metadata": {
  "kernelspec": {
   "display_name": "Python 3",
   "language": "python",
   "name": "python3"
  },
  "language_info": {
   "codemirror_mode": {
    "name": "ipython",
    "version": 3
   },
   "file_extension": ".py",
   "mimetype": "text/x-python",
   "name": "python",
   "nbconvert_exporter": "python",
   "pygments_lexer": "ipython3",
   "version": "3.5.1"
  }
 },
 "nbformat": 4,
 "nbformat_minor": 0
}
