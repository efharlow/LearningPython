{
 "cells": [
  {
   "cell_type": "code",
   "execution_count": null,
   "metadata": {
    "collapsed": true
   },
   "outputs": [],
   "source": []
  },
  {
   "cell_type": "markdown",
   "metadata": {},
   "source": [
    "text text **text**"
   ]
  },
  {
   "cell_type": "code",
   "execution_count": 9,
   "metadata": {
    "collapsed": false
   },
   "outputs": [
    {
     "name": "stdout",
     "output_type": "stream",
     "text": [
      "[ -9.99200722e-16   2.44249065e-15   3.33066907e-16   0.00000000e+00\n",
      "  -6.66133815e-16   1.99840144e-15  -4.44089210e-16]\n"
     ]
    }
   ],
   "source": [
    "import numpy as np\n",
    "\n",
    "a = np.array([[1, 2, 3], \n",
    "              [3, 4, 5], \n",
    "              [4, 6, 8]])\n",
    "n = 7\n",
    "b = np.random.rand(n, n)\n",
    "x = np.random.rand(n)\n",
    "y = b @ (x)\n",
    "c = np.linalg.inv(b)\n",
    "v = c @ y\n",
    "print(v - x)"
   ]
  },
  {
   "cell_type": "code",
   "execution_count": 13,
   "metadata": {
    "collapsed": false
   },
   "outputs": [
    {
     "name": "stdout",
     "output_type": "stream",
     "text": [
      "[[ 0.90599314  0.89034534  0.44049817  0.17976116  0.25345246]\n",
      " [ 0.92483662  0.48476236  0.66830024  0.8869607   0.4483664 ]\n",
      " [ 0.69083159  0.55307319  0.96758505  0.85054676  0.03320607]\n",
      " [ 0.1304701   0.54155365  0.81654472  0.68291136  0.0066158 ]\n",
      " [ 0.76456612  0.97733968  0.84484224  0.71892641  0.09452552]]\n"
     ]
    }
   ],
   "source": [
    "import numpy as np\n",
    "\n",
    "def generate(n):\n",
    "    def create(matrix):\n",
    "        if np.linalg.det(matrix) != 0:\n",
    "            return matrix\n",
    "        else:\n",
    "            return create(np.random.rand(n, n))\n",
    "    return create(np.random.rand(n, n))\n",
    "\n"
   ]
  },
  {
   "cell_type": "code",
   "execution_count": 22,
   "metadata": {
    "collapsed": false
   },
   "outputs": [
    {
     "name": "stdout",
     "output_type": "stream",
     "text": [
      "[[  1.00000000e+00  -1.11022302e-16  -5.55111512e-17   5.55111512e-17\n",
      "    0.00000000e+00]\n",
      " [  0.00000000e+00   1.00000000e+00  -3.33066907e-16  -3.88578059e-16\n",
      "   -2.22044605e-16]\n",
      " [  0.00000000e+00   0.00000000e+00   1.00000000e+00  -3.88578059e-16\n",
      "    0.00000000e+00]\n",
      " [  0.00000000e+00   2.22044605e-16   1.11022302e-16   1.00000000e+00\n",
      "    4.44089210e-16]\n",
      " [  1.66533454e-16   5.55111512e-17   0.00000000e+00   2.77555756e-17\n",
      "    1.00000000e+00]]\n"
     ]
    }
   ],
   "source": [
    "# generate a nice invertible A in one line (and x in one line, y in one line)\n",
    "# given y and A in y = Ax, return x\n",
    "# bonus points:\n",
    "# * given a true value of x, check to make sure your estimation is close to the true x\n",
    "# * check how you state how close it is\n",
    "# * when you check, use a NumPy function\n",
    "\n",
    "# generate n x n matrices that are not invertible\n",
    "# do this by 2 ways as judged different by Scott\n",
    "# write a (not very general) method for this\n",
    "\n",
    "import numpy as np\n",
    "\n",
    "def generate_linear_system(n):\n",
    "    # Benefits of nested functions: They allow abstractions within abstractions, reduce global \n",
    "    # scope clutter for actions only relevant to the function, and conveniently package the \n",
    "    # function so it has no global-scope dependencies and therefore make the function, in some \n",
    "    # sense, more \"pure.\"\n",
    "    def create(matrix): # need function to make sure created system is invertable, if singular, \n",
    "                        # then make a new one and check to make sure not singular\n",
    "        if np.linalg.det(matrix) != 0:\n",
    "            return matrix\n",
    "        else: # else for clarity and uniformity\n",
    "            return create(np.random.rand(n, n))\n",
    "    A = create(np.random.rand(n, n))\n",
    "    x = np.random.rand(n)\n",
    "    y = A @ x\n",
    "    return {\"A\": A, \"x\": x, \"y\": y}\n",
    "def x(system):\n",
    "    A, y = system[\"A\"], system[\"y\"]\n",
    "    try:\n",
    "        alpha = np.linalg.inv(A)\n",
    "    except np.linalg.LinAlgError:\n",
    "        raise\n",
    "    else:\n",
    "        return alpha @ y\n",
    "    return False\n",
    "def is_close(x1, x2):\n",
    "    return np.allclose(x1, x2)\n",
    "def not_inv_col(n):\n",
    "    row_scales = np.random.rand(n)\n",
    "    row_scales[np.random.randint(0, n)] = 0\n",
    "    return np.array([[scale * elt for elt in np.random.rand(n)] for scale in row_scales])\n",
    "# def notInvRow(n):\n",
    "#     rowScales = np.random.rand(n)\n",
    "#     rowScales[np.random.randint(0, n)] = 0\n",
    "#     return np.matrix([[scale * elt for elt in np.random.rand(n)] for scale in rowScales])\n",
    "def not_inv_sum(n):\n",
    "    def translate_matrix(matrix):\n",
    "        return [[matrix[row][column] for row in range(len(matrix))] for column in range(len(matrix))]\n",
    "    def reduce_matrix_rows(matrix):\n",
    "        return [sum(matrix[column]) for column in range(len(matrix))]\n",
    "    matrix = np.random.rand(n - 1, n)\n",
    "    np.insert(matrix, np.random.randint(0, n), reduce_matrix_rows(translate_matrix(matrix)))\n",
    "    return np.array(matrix)\n",
    "# sys = generateSystem(10)\n",
    "# sysX = x(sys)\n",
    "# print(isClose(sysX, sys[\"x\"]))\n",
    "# print(sysX, sys[\"x\"])\n",
    "# i = not_inv_sum(3)\n",
    "#print(i, np.linalg.inv(i))\n",
    "# print(i)\n",
    "q = generate_linear_system(5)[\"A\"]\n",
    "print(np.linalg.inv(q) @ q)"
   ]
  },
  {
   "cell_type": "code",
   "execution_count": 45,
   "metadata": {
    "collapsed": false
   },
   "outputs": [
    {
     "name": "stdout",
     "output_type": "stream",
     "text": [
      "[[0.0, 0.20675089431843965, 0.14730009326926446, 0.011435018526470917, 0.59479229699586045], [0.0, 0.52936475200966293, 0.48458197617920251, 0.043260546530910209, 0.028514799689732105], [0.0, 0.27688831953073001, 0.3842373518899817, 0.00507356328142406, 0.23829745276865624], [0.0, 0.091454028186211817, 0.52815064833900849, 0.036988606115941618, 0.4654193486478132], [0.0, 0.35703534937579035, 0.10751005603848988, 0.037468673456539391, 0.079114994605273214]]\n"
     ]
    },
    {
     "ename": "LinAlgError",
     "evalue": "Singular matrix",
     "output_type": "error",
     "traceback": [
      "\u001b[1;31m---------------------------------------------------------------------------\u001b[0m",
      "\u001b[1;31mLinAlgError\u001b[0m                               Traceback (most recent call last)",
      "\u001b[1;32m<ipython-input-45-fdb49f5f4114>\u001b[0m in \u001b[0;36m<module>\u001b[1;34m()\u001b[0m\n\u001b[0;32m     77\u001b[0m \u001b[0mscale_columns\u001b[0m\u001b[1;33m(\u001b[0m\u001b[1;33m[\u001b[0m\u001b[1;33m[\u001b[0m\u001b[1;36m1\u001b[0m\u001b[1;33m,\u001b[0m\u001b[1;36m2\u001b[0m\u001b[1;33m,\u001b[0m\u001b[1;36m3\u001b[0m\u001b[1;33m]\u001b[0m\u001b[1;33m,\u001b[0m\u001b[1;33m[\u001b[0m\u001b[1;36m4\u001b[0m\u001b[1;33m,\u001b[0m\u001b[1;36m5\u001b[0m\u001b[1;33m,\u001b[0m\u001b[1;36m6\u001b[0m\u001b[1;33m]\u001b[0m\u001b[1;33m,\u001b[0m\u001b[1;33m[\u001b[0m\u001b[1;36m7\u001b[0m\u001b[1;33m,\u001b[0m\u001b[1;36m8\u001b[0m\u001b[1;33m,\u001b[0m\u001b[1;36m9\u001b[0m\u001b[1;33m]\u001b[0m\u001b[1;33m]\u001b[0m\u001b[1;33m,\u001b[0m \u001b[1;33m[\u001b[0m\u001b[1;36m1\u001b[0m\u001b[1;33m,\u001b[0m\u001b[1;36m0\u001b[0m\u001b[1;33m,\u001b[0m\u001b[1;36m2\u001b[0m\u001b[1;33m]\u001b[0m\u001b[1;33m)\u001b[0m\u001b[1;33m\u001b[0m\u001b[0m\n\u001b[0;32m     78\u001b[0m \u001b[0mprint\u001b[0m\u001b[1;33m(\u001b[0m\u001b[0mnot_inv_column\u001b[0m\u001b[1;33m(\u001b[0m\u001b[1;36m5\u001b[0m\u001b[1;33m)\u001b[0m\u001b[1;33m)\u001b[0m\u001b[1;33m\u001b[0m\u001b[0m\n\u001b[1;32m---> 79\u001b[1;33m \u001b[0mprint\u001b[0m\u001b[1;33m(\u001b[0m\u001b[0mnp\u001b[0m\u001b[1;33m.\u001b[0m\u001b[0mlinalg\u001b[0m\u001b[1;33m.\u001b[0m\u001b[0minv\u001b[0m\u001b[1;33m(\u001b[0m\u001b[0mnot_inv_row\u001b[0m\u001b[1;33m(\u001b[0m\u001b[1;36m5\u001b[0m\u001b[1;33m)\u001b[0m\u001b[1;33m)\u001b[0m\u001b[1;33m)\u001b[0m\u001b[1;33m\u001b[0m\u001b[0m\n\u001b[0m\u001b[0;32m     80\u001b[0m \u001b[1;31m# print(i)\u001b[0m\u001b[1;33m\u001b[0m\u001b[1;33m\u001b[0m\u001b[0m\n\u001b[0;32m     81\u001b[0m \u001b[1;31m# q = generate_linear_system(5)[\"A\"]\u001b[0m\u001b[1;33m\u001b[0m\u001b[1;33m\u001b[0m\u001b[0m\n",
      "\u001b[1;32mC:\\Users\\HARLOWEWAN\\Anaconda3\\lib\\site-packages\\numpy\\linalg\\linalg.py\u001b[0m in \u001b[0;36minv\u001b[1;34m(a)\u001b[0m\n\u001b[0;32m    524\u001b[0m     \u001b[0msignature\u001b[0m \u001b[1;33m=\u001b[0m \u001b[1;34m'D->D'\u001b[0m \u001b[1;32mif\u001b[0m \u001b[0misComplexType\u001b[0m\u001b[1;33m(\u001b[0m\u001b[0mt\u001b[0m\u001b[1;33m)\u001b[0m \u001b[1;32melse\u001b[0m \u001b[1;34m'd->d'\u001b[0m\u001b[1;33m\u001b[0m\u001b[0m\n\u001b[0;32m    525\u001b[0m     \u001b[0mextobj\u001b[0m \u001b[1;33m=\u001b[0m \u001b[0mget_linalg_error_extobj\u001b[0m\u001b[1;33m(\u001b[0m\u001b[0m_raise_linalgerror_singular\u001b[0m\u001b[1;33m)\u001b[0m\u001b[1;33m\u001b[0m\u001b[0m\n\u001b[1;32m--> 526\u001b[1;33m     \u001b[0mainv\u001b[0m \u001b[1;33m=\u001b[0m \u001b[0m_umath_linalg\u001b[0m\u001b[1;33m.\u001b[0m\u001b[0minv\u001b[0m\u001b[1;33m(\u001b[0m\u001b[0ma\u001b[0m\u001b[1;33m,\u001b[0m \u001b[0msignature\u001b[0m\u001b[1;33m=\u001b[0m\u001b[0msignature\u001b[0m\u001b[1;33m,\u001b[0m \u001b[0mextobj\u001b[0m\u001b[1;33m=\u001b[0m\u001b[0mextobj\u001b[0m\u001b[1;33m)\u001b[0m\u001b[1;33m\u001b[0m\u001b[0m\n\u001b[0m\u001b[0;32m    527\u001b[0m     \u001b[1;32mreturn\u001b[0m \u001b[0mwrap\u001b[0m\u001b[1;33m(\u001b[0m\u001b[0mainv\u001b[0m\u001b[1;33m.\u001b[0m\u001b[0mastype\u001b[0m\u001b[1;33m(\u001b[0m\u001b[0mresult_t\u001b[0m\u001b[1;33m,\u001b[0m \u001b[0mcopy\u001b[0m\u001b[1;33m=\u001b[0m\u001b[1;32mFalse\u001b[0m\u001b[1;33m)\u001b[0m\u001b[1;33m)\u001b[0m\u001b[1;33m\u001b[0m\u001b[0m\n\u001b[0;32m    528\u001b[0m \u001b[1;33m\u001b[0m\u001b[0m\n",
      "\u001b[1;32mC:\\Users\\HARLOWEWAN\\Anaconda3\\lib\\site-packages\\numpy\\linalg\\linalg.py\u001b[0m in \u001b[0;36m_raise_linalgerror_singular\u001b[1;34m(err, flag)\u001b[0m\n\u001b[0;32m     88\u001b[0m \u001b[1;33m\u001b[0m\u001b[0m\n\u001b[0;32m     89\u001b[0m \u001b[1;32mdef\u001b[0m \u001b[0m_raise_linalgerror_singular\u001b[0m\u001b[1;33m(\u001b[0m\u001b[0merr\u001b[0m\u001b[1;33m,\u001b[0m \u001b[0mflag\u001b[0m\u001b[1;33m)\u001b[0m\u001b[1;33m:\u001b[0m\u001b[1;33m\u001b[0m\u001b[0m\n\u001b[1;32m---> 90\u001b[1;33m     \u001b[1;32mraise\u001b[0m \u001b[0mLinAlgError\u001b[0m\u001b[1;33m(\u001b[0m\u001b[1;34m\"Singular matrix\"\u001b[0m\u001b[1;33m)\u001b[0m\u001b[1;33m\u001b[0m\u001b[0m\n\u001b[0m\u001b[0;32m     91\u001b[0m \u001b[1;33m\u001b[0m\u001b[0m\n\u001b[0;32m     92\u001b[0m \u001b[1;32mdef\u001b[0m \u001b[0m_raise_linalgerror_nonposdef\u001b[0m\u001b[1;33m(\u001b[0m\u001b[0merr\u001b[0m\u001b[1;33m,\u001b[0m \u001b[0mflag\u001b[0m\u001b[1;33m)\u001b[0m\u001b[1;33m:\u001b[0m\u001b[1;33m\u001b[0m\u001b[0m\n",
      "\u001b[1;31mLinAlgError\u001b[0m: Singular matrix"
     ]
    }
   ],
   "source": [
    "# generate a nice invertible A in one line (and x in one line, y in one line)\n",
    "# given y and A in y = Ax, return x\n",
    "# bonus points:\n",
    "# * given a true value of x, check to make sure your estimation is close to the true x\n",
    "# * check how you state how close it is\n",
    "# * when you check, use a NumPy function\n",
    "\n",
    "# generate n x n matrices that are not invertible\n",
    "# do this by 2 ways as judged different by Scott\n",
    "# write a (not very general) method for this\n",
    "\n",
    "import numpy as np\n",
    "\n",
    "def generate_linear_system(n):\n",
    "    # Benefits of nested functions: They allow abstractions within abstractions, reduce global \n",
    "    # scope clutter for actions only relevant to the function, and conveniently package the \n",
    "    # function so it has no global-scope dependencies and therefore make the function, in some \n",
    "    # sense, more \"pure.\"\n",
    "    def create(matrix): # need function to make sure created system is invertable, if singular, \n",
    "                        # then make a new one and check to make sure not singular\n",
    "        if np.linalg.det(matrix) != 0:\n",
    "            return matrix\n",
    "        else: # else for clarity and uniformity\n",
    "            return create(np.random.rand(n, n))\n",
    "    A = create(np.random.rand(n, n))\n",
    "    x = np.random.rand(n)\n",
    "    y = A @ x\n",
    "    return {\"A\": A, \"x\": x, \"y\": y}\n",
    "def x(system):\n",
    "    A, y = system[\"A\"], system[\"y\"]\n",
    "    try:\n",
    "        alpha = np.linalg.inv(A)\n",
    "    except np.linalg.LinAlgError:\n",
    "        raise\n",
    "    else:\n",
    "        return alpha @ y\n",
    "    return False\n",
    "def is_close(x1, x2):\n",
    "    return np.allclose(x1, x2)\n",
    "# translate_matrix has shared functionality valaid to other parts of program so is in global scope and \n",
    "# other matrix operations valid as stand-alone abstractions\n",
    "def translate_matrix(matrix):\n",
    "    row_length, column_length = len(matrix), len(matrix[0])\n",
    "    return [[matrix[row][column] for row in range(len(matrix))] for column in range(len(matrix[0]))]\n",
    "# def reverse_translate_matrix(matrix):\n",
    "#    row_length, column_length = len(matrix), len(matrix[0])\n",
    "#    return [[matrix[row_length - row - 1][column] for row in range(row_length)] for column in range(column_length)]\n",
    "def reduce_matrix_rows(matrix):\n",
    "    return [sum(matrix[column]) for column in range(len(matrix))]\n",
    "def scale_columns(matrix, scales): # assumes length of scales (list) is same as length of a row in matrix\n",
    "    translated = translate_matrix(matrix)\n",
    "    scaled = [[scales[i] * elt for elt in translated[i]] for i in range(len(translated))]\n",
    "    return translate_matrix(scaled)\n",
    "def not_inv_row(n):\n",
    "    row_scales = np.random.rand(n)\n",
    "    row_scales[np.random.randint(0, n)] = 0\n",
    "    # scales rows individually to different scales\n",
    "    return np.array([[scale * elt for elt in np.random.rand(n)] for scale in row_scales])\n",
    "def not_inv_column(n):\n",
    "    column_scales = np.random.rand(n)\n",
    "    column_scales[np.random.randint(0, n)] = 0\n",
    "    return scale_columns(np.random.rand(n, n), column_scales)\n",
    "# def notInvRow(n):\n",
    "#     rowScales = np.random.rand(n)\n",
    "#     rowScales[np.random.randint(0, n)] = 0\n",
    "#     return np.matrix([[scale * elt for elt in np.random.rand(n)] for scale in rowScales])\n",
    "def not_inv_sum(n):\n",
    "    matrix = np.random.rand(n - 1, n)\n",
    "    np.insert(matrix, np.random.randint(0, n), reduce_matrix_rows(translate_matrix(matrix)))\n",
    "    return np.array(matrix)\n",
    "# sys = generateSystem(10)\n",
    "# sysX = x(sys)\n",
    "# print(isClose(sysX, sys[\"x\"]))\n",
    "# print(sysX, sys[\"x\"])\n",
    "#i = not_inv_sum(3)\n",
    "#print(i, np.linalg.inv(i))\n",
    "scale_columns([[1,2,3],[4,5,6],[7,8,9]], [1,0,2])\n",
    "print(not_inv_column(5))\n",
    "print(not_inv_row(5))\n",
    "# print(i)\n",
    "# q = generate_linear_system(5)[\"A\"]\n",
    "# print(np.linalg.inv(q) @ q)"
   ]
  },
  {
   "cell_type": "code",
   "execution_count": null,
   "metadata": {
    "collapsed": true
   },
   "outputs": [],
   "source": [
    "import numpy as np\n",
    "\n",
    "def generate_linear_system(n):\n",
    "    # Benefits of nested functions: They allow abstractions within abstractions, reduce global \n",
    "    # scope clutter for actions only relevant to the function, and conveniently package the \n",
    "    # function so it has no global-scope dependencies and therefore make the function, in some \n",
    "    # sense, more \"pure.\"\n",
    "    def create(matrix): # need function to make sure created system is invertable, if singular, \n",
    "                        # then make a new one and check to make sure not singular\n",
    "        if np.linalg.det(matrix) != 0:\n",
    "            return matrix\n",
    "        else: # else for clarity and uniformity\n",
    "            return create(np.random.rand(n, n))\n",
    "    A = create(np.random.rand(n, n))\n",
    "    x = np.random.rand(n)\n",
    "    y = A @ x\n",
    "    return {\"A\": A, \"x\": x, \"y\": y}\n",
    "def x(system):\n",
    "    A, y = system[\"A\"], system[\"y\"]\n",
    "    try:\n",
    "        alpha = np.linalg.inv(A)\n",
    "    except np.linalg.LinAlgError:\n",
    "        raise\n",
    "    else:\n",
    "        return alpha @ y\n",
    "    return False\n",
    "def is_close(x1, x2):\n",
    "    return np.allclose(x1, x2)\n",
    "\n",
    "# translate_matrix has shared functionality valaid to other parts of program so is in global scope and \n",
    "# other matrix operations valid as stand-alone abstractions, too\n",
    "def translate_matrix(matrix):\n",
    "    row_length, column_length = len(matrix), len(matrix[0])\n",
    "    return [[matrix[row][column] for row in range(len(matrix))] for column in range(len(matrix[0]))]\n",
    "def reduce_matrix_rows(matrix):\n",
    "    return [sum(matrix[column]) for column in range(len(matrix))]\n",
    "def scale_columns(matrix, scales): # assumes length of scales (list) is same as length of a row in matrix\n",
    "    translated = translate_matrix(matrix)\n",
    "    scaled = [scalar_mult(translated[i], scales[i]) for i in range(len(translated))]\n",
    "    return translate_matrix(scaled)\n",
    "def scalar_mult(row, scale):\n",
    "    return [scale * elt for elt in row]\n",
    "\n",
    "def not_inv_row(n):\n",
    "    row_scales = np.random.rand(n)\n",
    "    row_scales[np.random.randint(0, n)] = 0\n",
    "    # scales rows individually to different scales\n",
    "    return np.array([scalar_mult(np.random.rand(n), scale) for scale in row_scales])\n",
    "def not_inv_column(n):\n",
    "    column_scales = np.random.rand(n)\n",
    "    column_scales[np.random.randint(0, n)] = 0\n",
    "    return scale_columns(np.random.rand(n, n), column_scales)\n",
    "def not_inv_sum(n):\n",
    "    matrix = np.random.rand(n - 1, n)\n",
    "    np.insert(matrix, np.random.randint(0, n), reduce_matrix_rows(translate_matrix(matrix)))\n",
    "    return np.array(matrix)"
   ]
  },
  {
   "cell_type": "code",
   "execution_count": null,
   "metadata": {
    "collapsed": true
   },
   "outputs": [],
   "source": []
  }
 ],
 "metadata": {
  "kernelspec": {
   "display_name": "Python 3",
   "language": "python",
   "name": "python3"
  },
  "language_info": {
   "codemirror_mode": {
    "name": "ipython",
    "version": 3
   },
   "file_extension": ".py",
   "mimetype": "text/x-python",
   "name": "python",
   "nbconvert_exporter": "python",
   "pygments_lexer": "ipython3",
   "version": "3.5.1"
  }
 },
 "nbformat": 4,
 "nbformat_minor": 0
}
