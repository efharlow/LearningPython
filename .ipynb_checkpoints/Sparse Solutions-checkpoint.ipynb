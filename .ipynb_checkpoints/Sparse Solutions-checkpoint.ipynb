{
 "cells": [
  {
   "cell_type": "code",
   "execution_count": 105,
   "metadata": {
    "collapsed": false
   },
   "outputs": [
    {
     "name": "stdout",
     "output_type": "stream",
     "text": [
      "[-1.  1.  1.  1.  1. -1. -1.  1.]\n",
      "[-0. -0.  1.  0. -1. -1.  1.  0. -0.  0. -1. -0.  0.]\n"
     ]
    }
   ],
   "source": [
    "import numpy as np\n",
    "import matplotlib.pyplot as plot\n",
    "%matplotlib inline\n",
    "\n",
    "def sparseSoln(y, A, tau, lam):\n",
    "    def grad(x):\n",
    "        return 2 * A.T @ (A @ x - y)\n",
    "    x_hat, x_half = np.zeros(len(A[0])), np.zeros(len(A[0]))\n",
    "    for k in np.arange(0, 1000):\n",
    "        x_half = x_hat - tau * grad(x_hat)\n",
    "        x_hat = np.sign(x_half) * np.maximum(np.absolute(x_half) - (1/2 * tau * lam), 0)\n",
    "    return x_hat\n",
    "\n",
    "x = np.array([0, 0, 1, 0, 0, 0, 1, 0, 0, 0, 0, 0, 1]) #len 13\n",
    "A = np.random.randn(8, 13)\n",
    "y = np.sign(A @ x) # 1 ==> representation, -1 ==> non-representation\n",
    "print(y)\n",
    "\n",
    "print(np.around(sparseSoln(y, A, .02, .1)))\n",
    "#[-0. -0.  0.  0.  0.  0.  1.  0. -0.  0.  0.  0.  1.] most of the time correlates some x's correctly, but misses some and\n",
    "#sometimes correlates incorrectly\n",
    "#[ 0.  0.  0.  0. -1. -0.  1.  0. -0.  0. -0. -0.  1.]\n",
    "#[ 0.  0.  1. -0. -0.  0.  0. -0.  0.  0.  0.  0.  1.]\n",
    "#[-0. -0.  1.  0. -1. -1.  1.  0. -0.  0. -1. -0.  0.]"
   ]
  },
  {
   "cell_type": "code",
   "execution_count": null,
   "metadata": {
    "collapsed": true
   },
   "outputs": [],
   "source": []
  },
  {
   "cell_type": "code",
   "execution_count": null,
   "metadata": {
    "collapsed": true
   },
   "outputs": [],
   "source": []
  }
 ],
 "metadata": {
  "kernelspec": {
   "display_name": "Python 3",
   "language": "python",
   "name": "python3"
  },
  "language_info": {
   "codemirror_mode": {
    "name": "ipython",
    "version": 3
   },
   "file_extension": ".py",
   "mimetype": "text/x-python",
   "name": "python",
   "nbconvert_exporter": "python",
   "pygments_lexer": "ipython3",
   "version": "3.5.1"
  }
 },
 "nbformat": 4,
 "nbformat_minor": 0
}
