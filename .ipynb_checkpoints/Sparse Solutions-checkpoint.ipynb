{
 "cells": [
  {
   "cell_type": "code",
   "execution_count": 38,
   "metadata": {
    "collapsed": false
   },
   "outputs": [
    {
     "name": "stdout",
     "output_type": "stream",
     "text": [
      "[ 0.70316609 -0.69968714  0.71448354  0.73946677 -0.65544595 -0.55872151\n",
      "  0.77954619  0.88496786  0.78359922  0.58933072 -0.80339202 -0.59480233\n",
      " -1.04499446 -0.66451004 -0.89540903  0.58711456  0.79980006 -0.6554622\n",
      "  0.71491021  0.63358904  0.71794121 -0.57458471 -0.47705717 -0.56190695\n",
      " -0.5177596 ]\n",
      "[ True  True  True  True  True  True  True  True  True  True  True  True\n",
      "  True  True  True  True  True  True  True  True  True  True  True  True\n",
      "  True]\n"
     ]
    }
   ],
   "source": [
    "import numpy as np\n",
    "import matplotlib.pyplot as plot\n",
    "%matplotlib inline\n",
    "\n",
    "def sparseSoln(y, A, tau, lam):\n",
    "    def grad(x):\n",
    "        return 2 * A.T @ (A @ x - y)\n",
    "    x_hat, x_half = np.zeros(len(A[0])), np.zeros(len(A[0]))\n",
    "    for k in np.arange(0, 100):\n",
    "        x_half = x_hat - tau * grad(x_hat)\n",
    "        x_hat = np.sign(x_half) * np.maximum(np.absolute(x_half) - (1/2 * tau * lam), 0)\n",
    "    return x_hat\n",
    "\n",
    "#x = np.array([0, 0, 1, 0, 0, 0, 1, 0, 0, 0, 0, 0, 1]) #len 13\n",
    "#A = np.random.randn(8, 13)\n",
    "#y = np.sign(A @ x) # 1 ==> representation, -1 ==> non-representation\n",
    "#print(y)\n",
    "\n",
    "#print(np.around(sparseSoln(y, A, .02, .1)))\n",
    "#[-0. -0.  0.  0.  0.  0.  1.  0. -0.  0.  0.  0.  1.] most of the time correlates some x's correctly, but misses some and\n",
    "#sometimes correlates incorrectly\n",
    "#[ 0.  0.  0.  0. -1. -0.  1.  0. -0.  0. -0. -0.  1.]\n",
    "#[ 0.  0.  1. -0. -0.  0.  0. -0.  0.  0.  0.  0.  1.]\n",
    "#[-0. -0.  1.  0. -1. -1.  1.  0. -0.  0. -1. -0.  0.]\n",
    "\n",
    "y = np.array([1, -1, 1, 1, -1, -1, 1, 1, 1, 1, -1, -1, -1, -1, -1, 1, 1, -1, 1, 1, 1, -1, -1, -1, -1])\n",
    "A = .1 * np.random.randn(len(y), 50)\n",
    "x = sparseSoln(y, A, .9, .9)\n",
    "#print(x)\n",
    "print(A @ x)\n",
    "print(np.sign(A @ x) == y) #works for small like .1 times A, but not large, like .5 * A; still something wrong"
   ]
  },
  {
   "cell_type": "code",
   "execution_count": null,
   "metadata": {
    "collapsed": true
   },
   "outputs": [],
   "source": []
  },
  {
   "cell_type": "code",
   "execution_count": null,
   "metadata": {
    "collapsed": true
   },
   "outputs": [],
   "source": []
  }
 ],
 "metadata": {
  "kernelspec": {
   "display_name": "Python 3",
   "language": "python",
   "name": "python3"
  },
  "language_info": {
   "codemirror_mode": {
    "name": "ipython",
    "version": 3
   },
   "file_extension": ".py",
   "mimetype": "text/x-python",
   "name": "python",
   "nbconvert_exporter": "python",
   "pygments_lexer": "ipython3",
   "version": "3.5.1"
  }
 },
 "nbformat": 4,
 "nbformat_minor": 0
}
