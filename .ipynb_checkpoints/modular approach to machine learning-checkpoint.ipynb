{
 "cells": [
  {
   "cell_type": "code",
   "execution_count": 32,
   "metadata": {
    "collapsed": false
   },
   "outputs": [
    {
     "name": "stderr",
     "output_type": "stream",
     "text": [
      "C:\\Users\\HARLOWEWAN\\Anaconda3\\lib\\site-packages\\ipykernel\\__main__.py:46: RuntimeWarning: overflow encountered in exp\n",
      "C:\\Users\\HARLOWEWAN\\Anaconda3\\lib\\site-packages\\ipykernel\\__main__.py:15: RuntimeWarning: overflow encountered in multiply\n",
      "C:\\Users\\HARLOWEWAN\\Anaconda3\\lib\\site-packages\\ipykernel\\__main__.py:8: RuntimeWarning: invalid value encountered in sign\n",
      "C:\\Users\\HARLOWEWAN\\Anaconda3\\lib\\site-packages\\ipykernel\\__main__.py:8: RuntimeWarning: invalid value encountered in maximum\n"
     ]
    },
    {
     "data": {
      "text/plain": [
       "[<matplotlib.lines.Line2D at 0xc3bc2f45f8>]"
      ]
     },
     "execution_count": 32,
     "metadata": {},
     "output_type": "execute_result"
    },
    {
     "data": {
      "image/png": "[encoded data removed]",
      "text/plain": [
       "<matplotlib.figure.Figure at 0xc3bbf53978>"
      ]
     },
     "metadata": {},
     "output_type": "display_data"
    },
    {
     "data": {
      "image/png": "[encoded data removed]",
      "text/plain": [
       "<matplotlib.figure.Figure at 0xc3bc1bb4a8>"
      ]
     },
     "metadata": {},
     "output_type": "display_data"
    },
    {
     "data": {
      "image/png": "[encoded data removed]",
      "text/plain": [
       "<matplotlib.figure.Figure at 0xc3bc26a5c0>"
      ]
     },
     "metadata": {},
     "output_type": "display_data"
    }
   ],
   "source": [
    "import numpy as np\n",
    "import matplotlib.pyplot as plot\n",
    "%matplotlib inline\n",
    "\n",
    "def grad(A, x, y):\n",
    "    return 2 * A.T @ (A @ x - y)\n",
    "def prox(x_half, tau, lam):\n",
    "    return np.sign(x_half) * np.maximum(np.absolute(x_half) - (1/2 * tau * lam), 0)\n",
    "def sparse_solutions(grad, prox, y, A, tau=False, lam=.1):\n",
    "    if not tau:\n",
    "        tau=1/np.linalg.norm(A) # o < Ta < 2/ norm(A)\n",
    "    error = []\n",
    "    x_hat = np.zeros(len(A[0]))\n",
    "    for k in np.arange(0, 1000):\n",
    "        x_half = x_hat - tau * grad(A, x_hat, y)\n",
    "        x_hat = prox(x_half, tau, lam)\n",
    "        error += [np.linalg.norm(y - A @ x_hat)**2 / np.linalg.norm(y)**2]\n",
    "    return x_hat, error\n",
    "\n",
    "# create a class for encapsulation purposes\n",
    "class gradient_descent:\n",
    "    methods = {\n",
    "        \"sparse solutions\": sparse_solutions\n",
    "    }\n",
    "    flavors = {\n",
    "        \"ordinary least squares\": {\"grad\": grad, \"prox\": prox},\n",
    "        #\"logistic\":{grad: , prox:}\n",
    "    }\n",
    "    \n",
    "    def add_flavor(self, name, grad = grad, prox = prox):\n",
    "        self.flavors[name] = {\"grad\": grad, \"prox\": prox}\n",
    "        #self.flavors[name][\"grad\"] = grad\n",
    "        #self.flavors[name][\"prox\"] = prox\n",
    "    def add_method(self, name, method = sparse_solutions):\n",
    "        self.methods[name] = method\n",
    "    def implement(self, flavor = \"ordinary least squares\", method = \"sparse solutions\"):\n",
    "        def implementation(y, A, tau=False, lam=.1):\n",
    "            if not tau:\n",
    "                tau=1/np.linalg.norm(A)\n",
    "            return self.methods[method](self.flavors[flavor][\"grad\"], self.flavors[flavor][\"prox\"], y, A, tau, lam)\n",
    "        return implementation\n",
    "gradient_descent = gradient_descent()\n",
    "\n",
    "\n",
    "## add a new type: easy!\n",
    "gradient_descent.add_flavor(\"logistic\", lambda A, x, y: 1 / (1 + np.exp(grad(A, x, y))))\n",
    "\n",
    "# reads like english, easy to implement\n",
    "logistic_sparse_solutions = gradient_descent.implement(\"logistic\", \"sparse solutions\")\n",
    "ordinary_sparse_solutions = gradient_descent.implement(\"ordinary least squares\", \"sparse solutions\")\n",
    "\n",
    "# test\n",
    "y = y = np.sign(np.random.randn(100))\n",
    "A = .1 * np.random.randn(len(y), 1000)\n",
    "plot.figure()\n",
    "x, error = logistic_sparse_solutions(y, A)\n",
    "plot.plot(error)\n",
    "plot.figure()\n",
    "x, error = ordinary_sparse_solutions(y, A)\n",
    "plot.plot(error) \n",
    "plot.figure()\n",
    "x, error = gradient_descent.implement(\"ordinary least squares\", \"sparse solutions\")(y, A, tau=1000000, lam=.000001)\n",
    "plot.plot(error) # same as before homework because of huge tau"
   ]
  },
  {
   "cell_type": "code",
   "execution_count": null,
   "metadata": {
    "collapsed": true
   },
   "outputs": [],
   "source": []
  }
 ],
 "metadata": {
  "kernelspec": {
   "display_name": "Python 3",
   "language": "python",
   "name": "python3"
  },
  "language_info": {
   "codemirror_mode": {
    "name": "ipython",
    "version": 3
   },
   "file_extension": ".py",
   "mimetype": "text/x-python",
   "name": "python",
   "nbconvert_exporter": "python",
   "pygments_lexer": "ipython3",
   "version": "3.5.1"
  }
 },
 "nbformat": 4,
 "nbformat_minor": 0
}
