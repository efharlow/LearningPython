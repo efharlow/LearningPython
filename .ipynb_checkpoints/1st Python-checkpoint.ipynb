{
 "cells": [
  {
   "cell_type": "code",
   "execution_count": null,
   "metadata": {
    "collapsed": true
   },
   "outputs": [],
   "source": []
  },
  {
   "cell_type": "markdown",
   "metadata": {},
   "source": [
    "text text **text**"
   ]
  },
  {
   "cell_type": "code",
   "execution_count": 9,
   "metadata": {
    "collapsed": false
   },
   "outputs": [
    {
     "name": "stdout",
     "output_type": "stream",
     "text": [
      "[ -9.99200722e-16   2.44249065e-15   3.33066907e-16   0.00000000e+00\n",
      "  -6.66133815e-16   1.99840144e-15  -4.44089210e-16]\n"
     ]
    }
   ],
   "source": [
    "import numpy as np\n",
    "\n",
    "a = np.array([[1, 2, 3], \n",
    "              [3, 4, 5], \n",
    "              [4, 6, 8]])\n",
    "n = 7\n",
    "b = np.random.rand(n, n)\n",
    "x = np.random.rand(n)\n",
    "y = b @ (x)\n",
    "c = np.linalg.inv(b)\n",
    "v = c @ y\n",
    "print(v - x)"
   ]
  },
  {
   "cell_type": "code",
   "execution_count": 13,
   "metadata": {
    "collapsed": false
   },
   "outputs": [
    {
     "name": "stdout",
     "output_type": "stream",
     "text": [
      "[[ 0.90599314  0.89034534  0.44049817  0.17976116  0.25345246]\n",
      " [ 0.92483662  0.48476236  0.66830024  0.8869607   0.4483664 ]\n",
      " [ 0.69083159  0.55307319  0.96758505  0.85054676  0.03320607]\n",
      " [ 0.1304701   0.54155365  0.81654472  0.68291136  0.0066158 ]\n",
      " [ 0.76456612  0.97733968  0.84484224  0.71892641  0.09452552]]\n"
     ]
    }
   ],
   "source": [
    "import numpy as np\n",
    "\n",
    "def generate(n):\n",
    "    def create(matrix):\n",
    "        if np.linalg.det(matrix) != 0:\n",
    "            return matrix\n",
    "        else:\n",
    "            return create(np.random.rand(n, n))\n",
    "    return create(np.random.rand(n, n))\n",
    "\n"
   ]
  },
  {
   "cell_type": "code",
   "execution_count": 11,
   "metadata": {
    "collapsed": false
   },
   "outputs": [
    {
     "name": "stdout",
     "output_type": "stream",
     "text": [
      "[[  1.00000000e+00  -2.30718222e-16  -4.99600361e-16  -4.99600361e-16\n",
      "   -3.33066907e-16]\n",
      " [ -2.22044605e-16   1.00000000e+00  -2.22044605e-16  -1.11022302e-16\n",
      "   -2.22044605e-16]\n",
      " [  1.11022302e-15  -1.19695920e-15   1.00000000e+00  -4.44089210e-16\n",
      "    0.00000000e+00]\n",
      " [ -2.22044605e-16   4.33680869e-18  -3.33066907e-16   1.00000000e+00\n",
      "   -5.55111512e-16]\n",
      " [ -3.33066907e-16   1.24683250e-15   3.33066907e-16  -3.33066907e-16\n",
      "    1.00000000e+00]]\n"
     ]
    }
   ],
   "source": [
    "# generate a nice invertible A in one line (and x in one line, y in one line)\n",
    "# given y and A in y = Ax, return x\n",
    "# bonus points:\n",
    "# * given a true value of x, check to make sure your estimation is close to the true x\n",
    "# * check how you state how close it is\n",
    "# * when you check, use a NumPy function\n",
    "\n",
    "# generate n x n matrices that are not invertible\n",
    "# do this by 2 ways as judged different by Scott\n",
    "# write a (not very general) method for this\n",
    "\n",
    "import numpy as np\n",
    "\n",
    "def generate_linear_system(n):\n",
    "    # Benefits of nested functions: They allow abstractions within abstractions, reduce global \n",
    "    # scope clutter for actions only relevant to the function, and conveniently package the \n",
    "    # function so it has no global-scope dependencies and therefore make the function, in some \n",
    "    # sense, more \"pure.\"\n",
    "    def create(matrix): # need function to make sure created system is invertable, if singular, \n",
    "                        # then make a new one and check to make sure not singular\n",
    "        if np.linalg.det(matrix) != 0:\n",
    "            return matrix\n",
    "        else: # else for clarity and uniformity\n",
    "            return create(np.random.rand(n, n))\n",
    "    A = create(np.random.rand(n, n))\n",
    "    x = np.random.rand(n)\n",
    "    y = A @ x\n",
    "    return {\"A\": A, \"x\": x, \"y\": y}\n",
    "def x(system):\n",
    "    A, y = system[\"A\"], system[\"y\"]\n",
    "    try:\n",
    "        alpha = np.linalg.inv(A)\n",
    "    except np.linalg.LinAlgError:\n",
    "        raise\n",
    "    else:\n",
    "        return alpha @ y\n",
    "    return False\n",
    "def is_close(x1, x2):\n",
    "    return np.allclose(x1, x2)\n",
    "def not_inv_col(n):\n",
    "    row_scales = np.random.rand(n)\n",
    "    row_scales[np.random.randint(0, n)] = 0\n",
    "    return np.array([[scale * elt for elt in np.random.rand(n)] for scale in row_scales])\n",
    "# def notInvRow(n):\n",
    "#     rowScales = np.random.rand(n)\n",
    "#     rowScales[np.random.randint(0, n)] = 0\n",
    "#     return np.matrix([[scale * elt for elt in np.random.rand(n)] for scale in rowScales])\n",
    "def not_inv_sum(n):\n",
    "    def translate_matrix(matrix):\n",
    "        return [[matrix[row][column] for row in range(len(matrix))] for column in range(len(matrix))]\n",
    "    def reduce_matrix_rows(matrix):\n",
    "        return [sum(matrix[column]) for column in range(len(matrix))]\n",
    "    matrix = np.random.rand(n - 1, n)\n",
    "    np.insert(matrix, np.random.randint(0, n), reduce_matrix_rows(translate_matrix(matrix)))\n",
    "    return np.array(matrix)\n",
    "# sys = generateSystem(10)\n",
    "# sysX = x(sys)\n",
    "# print(isClose(sysX, sys[\"x\"]))\n",
    "# print(sysX, sys[\"x\"])\n",
    "# i = not_inv_sum(3)\n",
    "#print(i, np.linalg.inv(i))\n",
    "# print(i)\n",
    "q = generate_linear_system(5)[\"A\"]\n",
    "print(np.linalg.inv(q) @ q)"
   ]
  },
  {
   "cell_type": "code",
   "execution_count": null,
   "metadata": {
    "collapsed": true
   },
   "outputs": [],
   "source": []
  },
  {
   "cell_type": "code",
   "execution_count": null,
   "metadata": {
    "collapsed": true
   },
   "outputs": [],
   "source": []
  },
  {
   "cell_type": "code",
   "execution_count": null,
   "metadata": {
    "collapsed": true
   },
   "outputs": [],
   "source": []
  }
 ],
 "metadata": {
  "kernelspec": {
   "display_name": "Python 3",
   "language": "python",
   "name": "python3"
  },
  "language_info": {
   "codemirror_mode": {
    "name": "ipython",
    "version": 3
   },
   "file_extension": ".py",
   "mimetype": "text/x-python",
   "name": "python",
   "nbconvert_exporter": "python",
   "pygments_lexer": "ipython3",
   "version": "3.5.1"
  }
 },
 "nbformat": 4,
 "nbformat_minor": 0
}
