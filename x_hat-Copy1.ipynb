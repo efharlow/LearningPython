{
 "cells": [
  {
   "cell_type": "code",
   "execution_count": null,
   "metadata": {
    "collapsed": false,
    "scrolled": false
   },
   "outputs": [
    {
     "name": "stdout",
     "output_type": "stream",
     "text": [
      "[   0    1    2 ..., 9997 9998 9999] [-393185.07568937  977158.2525866 ]\n"
     ]
    }
   ],
   "source": [
    "import numpy as np\n",
    "import matplotlib.pyplot as plot\n",
    "%matplotlib inline\n",
    "\n",
    "def x_hat(A, y, lam):\n",
    "    inv = np.linalg.inv\n",
    "    print(np.linalg.eig(A.T @ A)[0], inv(A.T@A).shape)\n",
    "    return inv(lam*np.eye(A.shape[1]) + A.T@A) @ A.T @ y\n",
    "    return np.linalg.inv(lam * np.identity(len(A[0])) + A.T @ A) @ A.T @ y\n",
    "\n",
    "np.random.seed(42)\n",
    "#x = np.random.randn(10)\n",
    "x = np.arange(10000)\n",
    "A = np.random.randn(2, 10000)#np.random.randint(100)\n",
    "y = A @ x\n",
    "print(x, y)\n",
    "#y = x + np.random.randn(*x.shape)\n",
    "#print(y)\n",
    "\n",
    "xi = x_hat(A, y, 0)#.5\n",
    "yi = A @ xi\n",
    "\n",
    "#print(x, y, xi)\n",
    "#print(xi, x)\n",
    "\n",
    "plot.figure()\n",
    "plot.plot(x, label='truth')\n",
    "plot.plot(xi, 'g', label='estimate')\n",
    "plot.xlabel('Index')\n",
    "plot.ylabel('Value at index')\n",
    "plot.legend(loc='best')\n",
    "plot.show()"
   ]
  },
  {
   "cell_type": "code",
   "execution_count": null,
   "metadata": {
    "collapsed": true
   },
   "outputs": [],
   "source": []
  },
  {
   "cell_type": "code",
   "execution_count": null,
   "metadata": {
    "collapsed": true
   },
   "outputs": [],
   "source": []
  }
 ],
 "metadata": {
  "kernelspec": {
   "display_name": "Python 3",
   "language": "python",
   "name": "python3"
  },
  "language_info": {
   "codemirror_mode": {
    "name": "ipython",
    "version": 3
   },
   "file_extension": ".py",
   "mimetype": "text/x-python",
   "name": "python",
   "nbconvert_exporter": "python",
   "pygments_lexer": "ipython3",
   "version": "3.5.1"
  }
 },
 "nbformat": 4,
 "nbformat_minor": 0
}
