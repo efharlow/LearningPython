{
 "cells": [
  {
   "cell_type": "code",
   "execution_count": 18,
   "metadata": {
    "collapsed": false
   },
   "outputs": [
    {
     "name": "stderr",
     "output_type": "stream",
     "text": [
      "C:\\Users\\HARLOWEWAN\\Anaconda3\\lib\\site-packages\\ipykernel\\__main__.py:31: RuntimeWarning: overflow encountered in exp\n"
     ]
    },
    {
     "data": {
      "text/plain": [
       "[<matplotlib.lines.Line2D at 0x18d64c0160>]"
      ]
     },
     "execution_count": 18,
     "metadata": {},
     "output_type": "execute_result"
    },
    {
     "data": {
      "image/png": "[encoded data removed]",
      "text/plain": [
       "<matplotlib.figure.Figure at 0x18d5069d30>"
      ]
     },
     "metadata": {},
     "output_type": "display_data"
    },
    {
     "data": {
      "image/png": "[encoded data removed]",
      "text/plain": [
       "<matplotlib.figure.Figure at 0x18d6471a58>"
      ]
     },
     "metadata": {},
     "output_type": "display_data"
    }
   ],
   "source": [
    "import numpy as np\n",
    "import matplotlib.pyplot as plot\n",
    "%matplotlib inline\n",
    "\n",
    "class ProxGrad:\n",
    "    def __init__(self, prox=False, grad=False):\n",
    "        if prox:\n",
    "            self.prox = prox\n",
    "        else: \n",
    "            self.prox = lambda x_half, tau, lam: np.sign(x_half) * np.maximum(np.absolute(x_half) - (1/2 * tau * lam), 0)\n",
    "        if grad:\n",
    "            self.grad = grad\n",
    "        else:\n",
    "            self.grad = lambda A, x, y: 2 * A.T @ (A @ x - y)\n",
    "    \n",
    "    #def grad(self, A, x, y):\n",
    "        #return 2 * A.T @ (A @ x - y)\n",
    "    #def prox(self, x_half, tau, lam):\n",
    "        #return np.sign(x_half) * np.maximum(np.absolute(x_half) - (1/2 * tau * lam), 0)\n",
    "    def execute(self, y, A, tau=False, lam=.1):\n",
    "        if not tau:\n",
    "            tau=1/np.linalg.norm(A) # o < Ta < 2/ norm(A)\n",
    "        error = []\n",
    "        x_hat = np.zeros(len(A[0]))\n",
    "        for k in np.arange(0, 1000):\n",
    "            x_half = x_hat - tau * self.grad(A, x_hat, y)\n",
    "            x_hat = self.prox(x_half, tau, lam)\n",
    "            error += [np.linalg.norm(y - A @ x_hat)**2 / np.linalg.norm(y)**2]\n",
    "        return x_hat, error\n",
    "\n",
    "class Wrapper:\n",
    "    def __init__(self):\n",
    "        self.grad = {\n",
    "            \"ordinary\": self.base_grad,\n",
    "            \"logistic\": lambda A, x, y: 1 / (1 + np.exp(self.base_grad(A, x, y)))\n",
    "        }\n",
    "        self.prox = {\n",
    "            \"ordinary\": self.base_prox\n",
    "        }\n",
    "    def base_grad(self, A, x, y):\n",
    "        return 2 * A.T @ (A @ x - y)\n",
    "    def base_prox(self, x_half, tau, lam):\n",
    "        return np.sign(x_half) * np.maximum(np.absolute(x_half) - (1/2 * tau * lam), 0)\n",
    "    def add_grad(self, name, grad):\n",
    "        self.grad[name] = grad\n",
    "    def add_prox(self, name, prox):\n",
    "        self.prox[name] = prox\n",
    "    def implement(self, prox=\"ordinary\", grad=\"ordinary\"):\n",
    "        return ProxGrad(self.prox[prox], self.grad[grad])\n",
    "\n",
    "wrapper = Wrapper()\n",
    "\n",
    "\n",
    "logistic = ProxGrad(grad=lambda A, x, y: 1 / (1 + np.exp(2 * A.T @ (A @ x - y))))\n",
    "\n",
    "y = np.sign(np.random.randn(100))\n",
    "A = .1 * np.random.randn(len(y), 1000)\n",
    "plot.figure()\n",
    "x, error = logistic.execute(y, A)\n",
    "plot.plot(error)     \n",
    "\n",
    "\n",
    "newLogistic = wrapper.implement(grad=\"logistic\")\n",
    "\n",
    "plot.figure()\n",
    "x, error = logistic.execute(y, A)\n",
    "plot.plot(error)    "
   ]
  },
  {
   "cell_type": "code",
   "execution_count": null,
   "metadata": {
    "collapsed": true
   },
   "outputs": [],
   "source": []
  }
 ],
 "metadata": {
  "kernelspec": {
   "display_name": "Python 3",
   "language": "python",
   "name": "python3"
  },
  "language_info": {
   "codemirror_mode": {
    "name": "ipython",
    "version": 3
   },
   "file_extension": ".py",
   "mimetype": "text/x-python",
   "name": "python",
   "nbconvert_exporter": "python",
   "pygments_lexer": "ipython3",
   "version": "3.5.1"
  }
 },
 "nbformat": 4,
 "nbformat_minor": 0
}
