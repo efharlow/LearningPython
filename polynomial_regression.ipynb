{
 "cells": [
  {
   "cell_type": "code",
   "execution_count": 27,
   "metadata": {
    "collapsed": false
   },
   "outputs": [
    {
     "name": "stderr",
     "output_type": "stream",
     "text": [
      "C:\\Users\\HARLOWEWAN\\Anaconda3\\lib\\site-packages\\ipykernel\\__main__.py:30: RuntimeWarning: overflow encountered in long_scalars\n"
     ]
    }
   ],
   "source": [
    "import numpy as np\n",
    "import matplotlib.pyplot as plot\n",
    "\n",
    "def translate_matrix(matrix):\n",
    "    row_length, column_length = len(matrix), len(matrix[0])\n",
    "    return [[matrix[row][column] for row in range(len(matrix))] for column in range(len(matrix[0]))]\n",
    "def reduce_matrix_rows(matrix):\n",
    "    return [sum(matrix[column]) for column in range(len(matrix))]\n",
    "def scale_columns(matrix, scales): # assumes length of scales (list) is same as length of a row in matrix\n",
    "    translated = translate_matrix(matrix)\n",
    "    scaled = [scalar_mult(translated[i], scales[i]) for i in range(len(translated))]\n",
    "    return translate_matrix(scaled)\n",
    "def scale_rows(matrix, scales):\n",
    "    return [scalar_mult(matrix[i], scales[i]) for i in range(len(matrix))]\n",
    "def scalar_mult(row, scale):\n",
    "    return [scale * elt for elt in row]\n",
    "\n",
    "\n",
    "def pinv(A):\n",
    "    translated = translate_matrix(A)\n",
    "    return np.dot(np.linalg.inv(np.dot(translated, A)), translated)\n",
    "def regress_polynomial(degree, x, y):\n",
    "    A = np.array([[ex**i for i in range(degree + 1)] for ex in x])\n",
    "    Alpha = pinv(A)\n",
    "    coefficients = np.dot(Alpha, y)\n",
    "    #print(coefficients)\n",
    "    def polynomial(x):\n",
    "        result = 0\n",
    "        for deg in range(degree + 1):\n",
    "            result += coefficients[deg] * (x**deg)\n",
    "        return result\n",
    "    return polynomial\n",
    "\n",
    "x = [n for n in range(12)]\n",
    "y = [2, 5, 9, 19, 36, 41, 88, 189, 220, 500, 1060, 2370]\n",
    "regress = regress_polynomial(10, x, y)\n",
    "xi = np.arange(x[0], x[len(x) - 1] + 1)\n",
    "yi = [regress(x) for x in xi]\n",
    "plot.figure()\n",
    "plot.plot(x, y)\n",
    "plot.plot(xi, yi)\n",
    "plot.show()"
   ]
  },
  {
   "cell_type": "code",
   "execution_count": null,
   "metadata": {
    "collapsed": true
   },
   "outputs": [],
   "source": []
  }
 ],
 "metadata": {
  "kernelspec": {
   "display_name": "Python 3",
   "language": "python",
   "name": "python3"
  },
  "language_info": {
   "codemirror_mode": {
    "name": "ipython",
    "version": 3
   },
   "file_extension": ".py",
   "mimetype": "text/x-python",
   "name": "python",
   "nbconvert_exporter": "python",
   "pygments_lexer": "ipython3",
   "version": "3.5.1"
  }
 },
 "nbformat": 4,
 "nbformat_minor": 0
}
