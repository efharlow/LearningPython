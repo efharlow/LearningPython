{
 "cells": [
  {
   "cell_type": "code",
   "execution_count": 29,
   "metadata": {
    "collapsed": false
   },
   "outputs": [
    {
     "name": "stdout",
     "output_type": "stream",
     "text": [
      "[  2.12520017e+05   7.67331215e+05  -3.86423903e+06   5.98730138e+06\n",
      "  -4.66900243e+06   2.07289939e+06  -5.38154459e+05   7.70116043e+04\n",
      "  -4.50563601e+03  -1.12395752e+02   5.37584799e+00   2.84406686e+00\n",
      "  -1.43491445e-01   8.21077032e-03  -1.25736732e-03  -1.85402701e-04\n",
      "   2.33838345e-05   2.04706013e-07  -3.92206311e-07   2.75992781e-08\n",
      "   5.93512238e-09  -2.46954952e-10  -4.76826576e-11   4.07746997e-12\n",
      "  -5.55420479e-13  -2.00736383e-14   2.31006084e-15   2.84512578e-16\n",
      "   7.44843346e-17   1.33228372e-19  -9.09035865e-19   4.48643091e-21\n",
      "  -1.61570793e-21   1.27889015e-23  -6.08868381e-24   3.55470566e-24\n",
      "   4.49441410e-25  -4.79615841e-26   4.70763091e-27  -4.07479487e-28\n",
      "  -4.48093737e-29   2.79781032e-30   1.44179257e-31  -3.34119331e-32\n",
      "   3.01337724e-33   6.12557501e-34  -9.22121461e-35   5.54681824e-36\n",
      "  -4.11516942e-37   1.74620667e-38]\n"
     ]
    },
    {
     "data": {
      "image/png": "[encoded data removed]",
      "text/plain": [
       "<matplotlib.figure.Figure at 0x1ec231ae10>"
      ]
     },
     "metadata": {},
     "output_type": "display_data"
    }
   ],
   "source": [
    "import numpy as np\n",
    "import matplotlib.pyplot as plot\n",
    "%matplotlib inline\n",
    "\n",
    "def translate_matrix(matrix):\n",
    "    row_length, column_length = len(matrix), len(matrix[0])\n",
    "    return [[matrix[row][column] for row in range(len(matrix))] for column in range(len(matrix[0]))]\n",
    "def reduce_matrix_rows(matrix):\n",
    "    return [sum(matrix[column]) for column in range(len(matrix))]\n",
    "def scale_columns(matrix, scales): # assumes length of scales (list) is same as length of a row in matrix\n",
    "    translated = translate_matrix(matrix)\n",
    "    scaled = [scalar_mult(translated[i], scales[i]) for i in range(len(translated))]\n",
    "    return translate_matrix(scaled)\n",
    "def scale_rows(matrix, scales):\n",
    "    return [scalar_mult(matrix[i], scales[i]) for i in range(len(matrix))]\n",
    "def scalar_mult(row, scale):\n",
    "    return [scale * elt for elt in row]\n",
    "\n",
    "\n",
    "def pinv(A):\n",
    "    translated = translate_matrix(A)\n",
    "    # A.T, A.dot(x)\n",
    "    return np.dot(np.linalg.inv(np.dot(translated, A)), translated)\n",
    "def regress_polynomial(degree, x, y):\n",
    "    A = np.array([[ex**i for i in range(degree + 1)] for ex in x])\n",
    "    Alpha = pinv(A)\n",
    "    coefficients = np.dot(Alpha, y)\n",
    "    #print(coefficients)\n",
    "    print(coefficients)\n",
    "    def polynomial(x):\n",
    "        result = 0\n",
    "        for deg in range(degree + 1):\n",
    "            result += coefficients[deg] * (x**deg)\n",
    "        return result\n",
    "    return polynomial\n",
    "\n",
    "x = [n for n in range(12)]\n",
    "x = np.arange(12)\n",
    "x = np.linspace(0, 10)\n",
    "y = [2, 5, 9, 19, 36, 41, 88, 189, 220, 500, 1060, 2370]\n",
    "y = x + np.random.randn(*x.shape)\n",
    "regress = regress_polynomial(49, x, y)\n",
    "xi = np.arange(x[0], x[-1] + 1)\n",
    "xi = x.copy()\n",
    "yi = [regress(x) for x in xi]\n",
    "plot.figure()\n",
    "plot.plot(x, y, label='truth')\n",
    "plot.plot(xi, yi, 'o-', label='estimate')\n",
    "plot.legend(loc='best')\n",
    "plot.show()"
   ]
  },
  {
   "cell_type": "code",
   "execution_count": 31,
   "metadata": {
    "collapsed": false
   },
   "outputs": [
    {
     "data": {
      "text/plain": [
       "array([-0.33333333,  1.66666667])"
      ]
     },
     "execution_count": 31,
     "metadata": {},
     "output_type": "execute_result"
    }
   ],
   "source": [
    "import numpy as np\n",
    "a = np.array([[1,2],[3,3],[4,2]])\n",
    "y = np.array([3,4,2])\n",
    "np.linalg.pinv(a)@y\n"
   ]
  },
  {
   "cell_type": "code",
   "execution_count": null,
   "metadata": {
    "collapsed": true
   },
   "outputs": [],
   "source": []
  }
 ],
 "metadata": {
  "kernelspec": {
   "display_name": "Python 3",
   "language": "python",
   "name": "python3"
  },
  "language_info": {
   "codemirror_mode": {
    "name": "ipython",
    "version": 3
   },
   "file_extension": ".py",
   "mimetype": "text/x-python",
   "name": "python",
   "nbconvert_exporter": "python",
   "pygments_lexer": "ipython3",
   "version": "3.5.1"
  }
 },
 "nbformat": 4,
 "nbformat_minor": 0
}
